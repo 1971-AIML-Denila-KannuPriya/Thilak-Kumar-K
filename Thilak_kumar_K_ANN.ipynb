{
 "cells": [
  {
   "cell_type": "code",
   "execution_count": 1,
   "metadata": {},
   "outputs": [
    {
     "name": "stderr",
     "output_type": "stream",
     "text": [
      "c:\\Users\\DELL\\AppData\\Local\\Programs\\Python\\Python312\\Lib\\site-packages\\keras\\src\\layers\\core\\dense.py:87: UserWarning: Do not pass an `input_shape`/`input_dim` argument to a layer. When using Sequential models, prefer using an `Input(shape)` object as the first layer in the model instead.\n",
      "  super().__init__(activity_regularizer=activity_regularizer, **kwargs)\n"
     ]
    },
    {
     "name": "stdout",
     "output_type": "stream",
     "text": [
      "\u001b[1m16/16\u001b[0m \u001b[32m━━━━━━━━━━━━━━━━━━━━\u001b[0m\u001b[37m\u001b[0m \u001b[1m0s\u001b[0m 1ms/step - accuracy: 0.5676 - loss: 0.6822 \n",
      "Model accuracy with Early Stopping: 54.20%\n"
     ]
    }
   ],
   "source": [
    "from keras.models import Sequential\n",
    "from keras.layers import Dense\n",
    "from keras.callbacks import EarlyStopping\n",
    "import numpy as np\n",
    "\n",
    "X = np.random.rand(500, 10)\n",
    "y = np.random.randint(2, size=500)\n",
    "\n",
    "model = Sequential()\n",
    "model.add(Dense(64, input_dim=10, activation='relu'))\n",
    "model.add(Dense(32, activation='relu'))\n",
    "model.add(Dense(1, activation='sigmoid'))\n",
    "\n",
    "model.compile(optimizer='adam', loss='binary_crossentropy', metrics=['accuracy'])\n",
    "\n",
    "early_stopping = EarlyStopping(monitor='val_loss', patience=5)\n",
    "\n",
    "model.fit(X, y, epochs=30, validation_split=0.2, callbacks=[early_stopping], verbose=0)\n",
    "\n",
    "loss, accuracy = model.evaluate(X, y)\n",
    "print(f'Model accuracy with Early Stopping: {accuracy * 100:.2f}%')\n"
   ]
  },
  {
   "cell_type": "code",
   "execution_count": null,
   "metadata": {},
   "outputs": [],
   "source": [
    "from keras.models import Sequential\n",
    "from keras.layers import Dense\n",
    "from keras.callbacks import ReduceLROnPlateau\n",
    "import numpy as np\n",
    "\n",
    "X = np.random.rand(500, 10)\n",
    "y = np.random.randint(2, size=500)\n",
    "\n",
    "model = Sequential()\n",
    "model.add(Dense(128, input_dim=10, activation='relu'))\n",
    "model.add(Dense(64, activation='relu'))\n",
    "model.add(Dense(1, activation='sigmoid'))\n",
    "\n",
    "model.compile(optimizer='adam', loss='binary_crossentropy', metrics=['accuracy'])\n",
    "\n",
    "lr_reduction = ReduceLROnPlateau(monitor='loss', factor=0.5, patience=3, min_lr=0.000001)\n",
    "\n",
    "model.fit(X, y, epochs=30, validation_split=0.2, callbacks=[lr_reduction], verbose=0)\n",
    "\n",
    "loss, accuracy = model.evaluate(X, y)\n",
    "print(f'Model accuracy with ReduceLROnPlateau (Custom Min LR): {accuracy * 100:.2f}%')\n"
   ]
  },
  {
   "cell_type": "code",
   "execution_count": null,
   "metadata": {},
   "outputs": [],
   "source": [
    "from keras.models import Sequential\n",
    "from keras.layers import Dense\n",
    "from keras.callbacks import TensorBoard\n",
    "import numpy as np\n",
    "import time\n",
    "\n",
    "X = np.random.rand(500, 10)\n",
    "y = np.random.randint(2, size=500)\n",
    "\n",
    "model = Sequential()\n",
    "model.add(Dense(64, input_dim=10, activation='relu'))\n",
    "model.add(Dense(32, activation='relu'))\n",
    "model.add(Dense(1, activation='sigmoid'))\n",
    "\n",
    "model.compile(optimizer='adam', loss='binary_crossentropy', metrics=['accuracy'])\n",
    "\n",
    "log_dir = \"logs/fit/\" + time.strftime(\"%Y%m%d-%H%M%S\")\n",
    "tensorboard = TensorBoard(log_dir=log_dir, histogram_freq=1)\n",
    "\n",
    "model.fit(X, y, epochs=30, validation_split=0.2, callbacks=[tensorboard], verbose=0)\n",
    "\n",
    "loss, accuracy = model.evaluate(X, y)\n",
    "print(f'Model accuracy with TensorBoard: {accuracy * 100:.2f}%')\n"
   ]
  },
  {
   "cell_type": "code",
   "execution_count": null,
   "metadata": {},
   "outputs": [],
   "source": [
    "from keras.models import Sequential\n",
    "from keras.layers import Dense\n",
    "from keras.callbacks import LearningRateScheduler\n",
    "import numpy as np\n",
    "\n",
    "X = np.random.rand(500, 10)\n",
    "y = np.random.randint(2, size=500)\n",
    "\n",
    "def lr_schedule(epoch, lr):\n",
    "    return lr * 0.9 if epoch > 10 else lr\n",
    "\n",
    "model = Sequential()\n",
    "model.add(Dense(128, input_dim=10, activation='relu'))\n",
    "model.add(Dense(64, activation='relu'))\n",
    "model.add(Dense(1, activation='sigmoid'))\n",
    "\n",
    "model.compile(optimizer='adam', loss='binary_crossentropy', metrics=['accuracy'])\n",
    "\n",
    "lr_scheduler = LearningRateScheduler(lr_schedule)\n",
    "\n",
    "model.fit(X, y, epochs=30, validation_split=0.2, callbacks=[lr_scheduler], verbose=0)\n",
    "\n",
    "loss, accuracy = model.evaluate(X, y)\n",
    "print(f'Model accuracy with Learning Rate Scheduler: {accuracy * 100:.2f}%')\n"
   ]
  },
  {
   "cell_type": "code",
   "execution_count": 3,
   "metadata": {},
   "outputs": [
    {
     "name": "stdout",
     "output_type": "stream",
     "text": [
      "\u001b[1m16/16\u001b[0m \u001b[32m━━━━━━━━━━━━━━━━━━━━\u001b[0m\u001b[37m\u001b[0m \u001b[1m0s\u001b[0m 1ms/step - accuracy: 0.5996 - loss: 0.6609 \n",
      "Model accuracy with Dropout Regularization: 59.20%\n"
     ]
    }
   ],
   "source": [
    "from keras.models import Sequential\n",
    "from keras.layers import Dense, Dropout\n",
    "import numpy as np\n",
    "\n",
    "X = np.random.rand(500, 10)\n",
    "y = np.random.randint(2, size=500)\n",
    "\n",
    "model = Sequential()\n",
    "model.add(Dense(128, input_dim=10, activation='relu'))\n",
    "model.add(Dropout(0.5))  # Adding Dropout\n",
    "model.add(Dense(64, activation='relu'))\n",
    "model.add(Dense(1, activation='sigmoid'))\n",
    "\n",
    "model.compile(optimizer='adam', loss='binary_crossentropy', metrics=['accuracy'])\n",
    "\n",
    "model.fit(X, y, epochs=30, validation_split=0.2, verbose=0)\n",
    "\n",
    "loss, accuracy = model.evaluate(X, y)\n",
    "print(f'Model accuracy with Dropout Regularization: {accuracy * 100:.2f}%')\n"
   ]
  },
  {
   "cell_type": "code",
   "execution_count": 4,
   "metadata": {},
   "outputs": [
    {
     "name": "stdout",
     "output_type": "stream",
     "text": [
      "\u001b[1m16/16\u001b[0m \u001b[32m━━━━━━━━━━━━━━━━━━━━\u001b[0m\u001b[37m\u001b[0m \u001b[1m0s\u001b[0m 1ms/step - accuracy: 0.7698 - loss: 0.4717  \n",
      "Model accuracy with Exponential Decay Learning Rate: 75.80%\n"
     ]
    }
   ],
   "source": [
    "from keras.models import Sequential\n",
    "from keras.layers import Dense\n",
    "from keras.optimizers import Adam\n",
    "import numpy as np\n",
    "\n",
    "X = np.random.rand(500, 10)\n",
    "y = np.random.randint(2, size=500)\n",
    "\n",
    "initial_lr = 0.01\n",
    "decay_steps = 100000\n",
    "decay_rate = 0.96\n",
    "\n",
    "def exp_decay(epoch):\n",
    "    return initial_lr * decay_rate ** (epoch / decay_steps)\n",
    "\n",
    "optimizer = Adam(learning_rate=initial_lr)\n",
    "\n",
    "model = Sequential()\n",
    "model.add(Dense(64, input_dim=10, activation='relu'))\n",
    "model.add(Dense(32, activation='relu'))\n",
    "model.add(Dense(1, activation='sigmoid'))\n",
    "\n",
    "model.compile(optimizer=optimizer, loss='binary_crossentropy', metrics=['accuracy'])\n",
    "\n",
    "model.fit(X, y, epochs=30, verbose=0)\n",
    "\n",
    "loss, accuracy = model.evaluate(X, y)\n",
    "print(f'Model accuracy with Exponential Decay Learning Rate: {accuracy * 100:.2f}%')\n"
   ]
  },
  {
   "cell_type": "code",
   "execution_count": 5,
   "metadata": {},
   "outputs": [
    {
     "name": "stdout",
     "output_type": "stream",
     "text": [
      "\u001b[1m16/16\u001b[0m \u001b[32m━━━━━━━━━━━━━━━━━━━━\u001b[0m\u001b[37m\u001b[0m \u001b[1m0s\u001b[0m 1ms/step - accuracy: 0.8793 - loss: 0.4692 \n",
      "Model accuracy with Batch Normalization: 80.80%\n"
     ]
    }
   ],
   "source": [
    "from keras.models import Sequential\n",
    "from keras.layers import Dense, BatchNormalization\n",
    "import numpy as np\n",
    "\n",
    "X = np.random.rand(500, 10)\n",
    "y = np.random.randint(2, size=500)\n",
    "\n",
    "model = Sequential()\n",
    "model.add(Dense(128, input_dim=10, activation='relu'))\n",
    "model.add(BatchNormalization())  # Adding Batch Normalization\n",
    "model.add(Dense(64, activation='relu'))\n",
    "model.add(Dense(1, activation='sigmoid'))\n",
    "\n",
    "model.compile(optimizer='adam', loss='binary_crossentropy', metrics=['accuracy'])\n",
    "\n",
    "model.fit(X, y, epochs=30, validation_split=0.2, verbose=0)\n",
    "\n",
    "loss, accuracy = model.evaluate(X, y)\n",
    "print(f'Model accuracy with Batch Normalization: {accuracy * 100:.2f}%')\n"
   ]
  },
  {
   "cell_type": "code",
   "execution_count": 6,
   "metadata": {},
   "outputs": [
    {
     "name": "stdout",
     "output_type": "stream",
     "text": [
      "\u001b[1m16/16\u001b[0m \u001b[32m━━━━━━━━━━━━━━━━━━━━\u001b[0m\u001b[37m\u001b[0m \u001b[1m0s\u001b[0m 1ms/step - accuracy: 0.5542 - loss: 0.6797 \n",
      "Model accuracy with Momentum Optimizer: 57.00%\n"
     ]
    }
   ],
   "source": [
    "from keras.models import Sequential\n",
    "from keras.layers import Dense\n",
    "from keras.optimizers import SGD\n",
    "import numpy as np\n",
    "\n",
    "X = np.random.rand(500, 10)\n",
    "y = np.random.randint(2, size=500)\n",
    "\n",
    "optimizer = SGD(learning_rate=0.01, momentum=0.9)\n",
    "\n",
    "model = Sequential()\n",
    "model.add(Dense(64, input_dim=10, activation='relu'))\n",
    "model.add(Dense(32, activation='relu'))\n",
    "model.add(Dense(1, activation='sigmoid'))\n",
    "\n",
    "model.compile(optimizer=optimizer, loss='binary_crossentropy', metrics=['accuracy'])\n",
    "\n",
    "model.fit(X, y, epochs=30, validation_split=0.2, verbose=0)\n",
    "\n",
    "loss, accuracy = model.evaluate(X, y)\n",
    "print(f'Model accuracy with Momentum Optimizer: {accuracy * 100:.2f}%')\n"
   ]
  },
  {
   "cell_type": "code",
   "execution_count": 7,
   "metadata": {},
   "outputs": [
    {
     "name": "stdout",
     "output_type": "stream",
     "text": [
      "\u001b[1m16/16\u001b[0m \u001b[32m━━━━━━━━━━━━━━━━━━━━\u001b[0m\u001b[37m\u001b[0m \u001b[1m0s\u001b[0m 1ms/step - accuracy: 0.7542 - loss: 0.5417 \n",
      "Model accuracy with Adamax Optimizer: 70.00%\n"
     ]
    }
   ],
   "source": [
    "from keras.models import Sequential\n",
    "from keras.layers import Dense\n",
    "from keras.optimizers import Adamax\n",
    "import numpy as np\n",
    "\n",
    "X = np.random.rand(500, 10)\n",
    "y = np.random.randint(2, size=500)\n",
    "\n",
    "optimizer = Adamax(learning_rate=0.01)\n",
    "\n",
    "model = Sequential()\n",
    "model.add(Dense(64, input_dim=10, activation='relu'))\n",
    "model.add(Dense(32, activation='relu'))\n",
    "model.add(Dense(1, activation='sigmoid'))\n",
    "\n",
    "model.compile(optimizer=optimizer, loss='binary_crossentropy', metrics=['accuracy'])\n",
    "\n",
    "model.fit(X, y, epochs=30, validation_split=0.2, verbose=0)\n",
    "\n",
    "loss, accuracy = model.evaluate(X, y)\n",
    "print(f'Model accuracy with Adamax Optimizer: {accuracy * 100:.2f}%')\n"
   ]
  },
  {
   "cell_type": "code",
   "execution_count": 8,
   "metadata": {},
   "outputs": [
    {
     "name": "stdout",
     "output_type": "stream",
     "text": [
      "\u001b[1m16/16\u001b[0m \u001b[32m━━━━━━━━━━━━━━━━━━━━\u001b[0m\u001b[37m\u001b[0m \u001b[1m0s\u001b[0m 734us/step - accuracy: 0.6683 - loss: 0.6346\n",
      "Model accuracy with RMSprop Optimizer: 64.20%\n"
     ]
    }
   ],
   "source": [
    "from keras.models import Sequential\n",
    "from keras.layers import Dense\n",
    "from keras.optimizers import RMSprop\n",
    "import numpy as np\n",
    "\n",
    "X = np.random.rand(500, 10)\n",
    "y = np.random.randint(2, size=500)\n",
    "\n",
    "optimizer = RMSprop(learning_rate=0.001)\n",
    "\n",
    "model = Sequential()\n",
    "model.add(Dense(128, input_dim=10, activation='relu'))\n",
    "model.add(Dense(64, activation='relu'))\n",
    "model.add(Dense(1, activation='sigmoid'))\n",
    "\n",
    "model.compile(optimizer=optimizer, loss='binary_crossentropy', metrics=['accuracy'])\n",
    "\n",
    "model.fit(X, y, epochs=30, validation_split=0.2, verbose=0)\n",
    "\n",
    "loss, accuracy = model.evaluate(X, y)\n",
    "print(f'Model accuracy with RMSprop Optimizer: {accuracy * 100:.2f}%')\n"
   ]
  },
  {
   "cell_type": "code",
   "execution_count": 9,
   "metadata": {},
   "outputs": [
    {
     "name": "stdout",
     "output_type": "stream",
     "text": [
      "\u001b[1m16/16\u001b[0m \u001b[32m━━━━━━━━━━━━━━━━━━━━\u001b[0m\u001b[37m\u001b[0m \u001b[1m0s\u001b[0m 1ms/step - accuracy: 0.6174 - loss: 0.6584 \n",
      "Model accuracy with Nesterov Momentum: 59.80%\n"
     ]
    }
   ],
   "source": [
    "from keras.models import Sequential\n",
    "from keras.layers import Dense\n",
    "from keras.optimizers import SGD\n",
    "import numpy as np\n",
    "\n",
    "X = np.random.rand(500, 10)\n",
    "y = np.random.randint(2, size=500)\n",
    "\n",
    "optimizer = SGD(learning_rate=0.01, momentum=0.9, nesterov=True)\n",
    "\n",
    "model = Sequential()\n",
    "model.add(Dense(64, input_dim=10, activation='relu'))\n",
    "model.add(Dense(32, activation='relu'))\n",
    "model.add(Dense(1, activation='sigmoid'))\n",
    "\n",
    "model.compile(optimizer=optimizer, loss='binary_crossentropy', metrics=['accuracy'])\n",
    "\n",
    "model.fit(X, y, epochs=30, validation_split=0.2, verbose=0)\n",
    "\n",
    "loss, accuracy = model.evaluate(X, y)\n",
    "print(f'Model accuracy with Nesterov Momentum: {accuracy * 100:.2f}%')\n"
   ]
  },
  {
   "cell_type": "code",
   "execution_count": 10,
   "metadata": {},
   "outputs": [
    {
     "name": "stdout",
     "output_type": "stream",
     "text": [
      "\u001b[1m16/16\u001b[0m \u001b[32m━━━━━━━━━━━━━━━━━━━━\u001b[0m\u001b[37m\u001b[0m \u001b[1m0s\u001b[0m 1ms/step - accuracy: 0.6614 - loss: 0.6062 \n",
      "Model accuracy with CSVLogger: 67.00%\n"
     ]
    }
   ],
   "source": [
    "from keras.models import Sequential\n",
    "from keras.layers import Dense\n",
    "from keras.callbacks import CSVLogger\n",
    "import numpy as np\n",
    "\n",
    "X = np.random.rand(500, 10)\n",
    "y = np.random.randint(2, size=500)\n",
    "\n",
    "model = Sequential()\n",
    "model.add(Dense(128, input_dim=10, activation='relu'))\n",
    "model.add(Dense(64, activation='relu'))\n",
    "model.add(Dense(1, activation='sigmoid'))\n",
    "\n",
    "model.compile(optimizer='adam', loss='binary_crossentropy', metrics=['accuracy'])\n",
    "\n",
    "csv_logger = CSVLogger('training_log.csv', append=False)\n",
    "\n",
    "model.fit(X, y, epochs=30, validation_split=0.2, callbacks=[csv_logger], verbose=0)\n",
    "\n",
    "loss, accuracy = model.evaluate(X, y)\n",
    "print(f'Model accuracy with CSVLogger: {accuracy * 100:.2f}%')\n"
   ]
  },
  {
   "cell_type": "code",
   "execution_count": 11,
   "metadata": {},
   "outputs": [
    {
     "name": "stdout",
     "output_type": "stream",
     "text": [
      "Epoch 1 ended with loss: 0.6967599391937256\n",
      "Epoch 2 ended with loss: 0.6919081211090088\n",
      "Epoch 3 ended with loss: 0.692976176738739\n",
      "Epoch 4 ended with loss: 0.6868392825126648\n",
      "Epoch 5 ended with loss: 0.682786226272583\n",
      "Epoch 6 ended with loss: 0.6820888519287109\n",
      "Epoch 7 ended with loss: 0.6786852478981018\n",
      "Epoch 8 ended with loss: 0.6759494543075562\n",
      "Epoch 9 ended with loss: 0.6741689443588257\n",
      "Epoch 10 ended with loss: 0.672160804271698\n",
      "Epoch 11 ended with loss: 0.6716116070747375\n",
      "Epoch 12 ended with loss: 0.6689177751541138\n",
      "Epoch 13 ended with loss: 0.6642005443572998\n",
      "Epoch 14 ended with loss: 0.6608888506889343\n",
      "Epoch 15 ended with loss: 0.6591518521308899\n",
      "Epoch 16 ended with loss: 0.6580326557159424\n",
      "Epoch 17 ended with loss: 0.6604726910591125\n",
      "Epoch 18 ended with loss: 0.6516575813293457\n",
      "Epoch 19 ended with loss: 0.6458130478858948\n",
      "Epoch 20 ended with loss: 0.6407749652862549\n",
      "Epoch 21 ended with loss: 0.6376399397850037\n",
      "Epoch 22 ended with loss: 0.6356116533279419\n",
      "Epoch 23 ended with loss: 0.6286028623580933\n",
      "Epoch 24 ended with loss: 0.6255704760551453\n",
      "Epoch 25 ended with loss: 0.6230164170265198\n",
      "Epoch 26 ended with loss: 0.6167779564857483\n",
      "Epoch 27 ended with loss: 0.6144300699234009\n",
      "Epoch 28 ended with loss: 0.6035521626472473\n",
      "Epoch 29 ended with loss: 0.5982911586761475\n",
      "Epoch 30 ended with loss: 0.5923651456832886\n",
      "\u001b[1m16/16\u001b[0m \u001b[32m━━━━━━━━━━━━━━━━━━━━\u001b[0m\u001b[37m\u001b[0m \u001b[1m0s\u001b[0m 2ms/step - accuracy: 0.7469 - loss: 0.5787 \n",
      "Model accuracy with LambdaCallback: 70.00%\n"
     ]
    }
   ],
   "source": [
    "from keras.models import Sequential\n",
    "from keras.layers import Dense\n",
    "from keras.callbacks import LambdaCallback\n",
    "import numpy as np\n",
    "\n",
    "X = np.random.rand(500, 10)\n",
    "y = np.random.randint(2, size=500)\n",
    "\n",
    "def on_epoch_end(epoch, logs):\n",
    "    print(f'Epoch {epoch + 1} ended with loss: {logs[\"loss\"]}')\n",
    "\n",
    "lambda_callback = LambdaCallback(on_epoch_end=on_epoch_end)\n",
    "\n",
    "model = Sequential()\n",
    "model.add(Dense(128, input_dim=10, activation='relu'))\n",
    "model.add(Dense(64, activation='relu'))\n",
    "model.add(Dense(1, activation='sigmoid'))\n",
    "\n",
    "model.compile(optimizer='adam', loss='binary_crossentropy', metrics=['accuracy'])\n",
    "\n",
    "model.fit(X, y, epochs=30, validation_split=0.2, callbacks=[lambda_callback], verbose=0)\n",
    "\n",
    "loss, accuracy = model.evaluate(X, y)\n",
    "print(f'Model accuracy with LambdaCallback: {accuracy * 100:.2f}%')\n"
   ]
  },
  {
   "cell_type": "code",
   "execution_count": 12,
   "metadata": {},
   "outputs": [
    {
     "name": "stderr",
     "output_type": "stream",
     "text": [
      "c:\\Users\\DELL\\AppData\\Local\\Programs\\Python\\Python312\\Lib\\site-packages\\keras\\src\\optimizers\\base_optimizer.py:33: UserWarning: Argument `decay` is no longer supported and will be ignored.\n",
      "  warnings.warn(\n"
     ]
    },
    {
     "name": "stdout",
     "output_type": "stream",
     "text": [
      "\u001b[1m16/16\u001b[0m \u001b[32m━━━━━━━━━━━━━━━━━━━━\u001b[0m\u001b[37m\u001b[0m \u001b[1m0s\u001b[0m 1ms/step - accuracy: 0.6559 - loss: 0.6106 \n",
      "Model accuracy with Adam and Weight Decay: 63.80%\n"
     ]
    }
   ],
   "source": [
    "from keras.models import Sequential\n",
    "from keras.layers import Dense\n",
    "from keras.optimizers import Adam\n",
    "import numpy as np\n",
    "\n",
    "X = np.random.rand(500, 10)\n",
    "y = np.random.randint(2, size=500)\n",
    "\n",
    "optimizer = Adam(learning_rate=0.001, decay=1e-6)\n",
    "\n",
    "model = Sequential()\n",
    "model.add(Dense(128, input_dim=10, activation='relu'))\n",
    "model.add(Dense(64, activation='relu'))\n",
    "model.add(Dense(1, activation='sigmoid'))\n",
    "\n",
    "model.compile(optimizer=optimizer, loss='binary_crossentropy', metrics=['accuracy'])\n",
    "\n",
    "model.fit(X, y, epochs=30, validation_split=0.2, verbose=0)\n",
    "\n",
    "loss, accuracy = model.evaluate(X, y)\n",
    "print(f'Model accuracy with Adam and Weight Decay: {accuracy * 100:.2f}%')\n"
   ]
  },
  {
   "cell_type": "code",
   "execution_count": 13,
   "metadata": {},
   "outputs": [
    {
     "name": "stdout",
     "output_type": "stream",
     "text": [
      "\u001b[1m16/16\u001b[0m \u001b[32m━━━━━━━━━━━━━━━━━━━━\u001b[0m\u001b[37m\u001b[0m \u001b[1m0s\u001b[0m 2ms/step - accuracy: 0.7195 - loss: 0.5963 \n",
      "Model accuracy with TerminateOnNaN: 70.60%\n"
     ]
    }
   ],
   "source": [
    "from keras.models import Sequential\n",
    "from keras.layers import Dense\n",
    "from keras.callbacks import TerminateOnNaN\n",
    "import numpy as np\n",
    "\n",
    "X = np.random.rand(500, 10)\n",
    "y = np.random.randint(2, size=500)\n",
    "\n",
    "model = Sequential()\n",
    "model.add(Dense(128, input_dim=10, activation='relu'))\n",
    "model.add(Dense(64, activation='relu'))\n",
    "model.add(Dense(1, activation='sigmoid'))\n",
    "\n",
    "model.compile(optimizer='adam', loss='binary_crossentropy', metrics=['accuracy'])\n",
    "\n",
    "terminate_on_nan = TerminateOnNaN()\n",
    "\n",
    "model.fit(X, y, epochs=30, validation_split=0.2, callbacks=[terminate_on_nan], verbose=0)\n",
    "\n",
    "loss, accuracy = model.evaluate(X, y)\n",
    "print(f'Model accuracy with TerminateOnNaN: {accuracy * 100:.2f}%')\n"
   ]
  },
  {
   "cell_type": "code",
   "execution_count": 14,
   "metadata": {},
   "outputs": [
    {
     "name": "stdout",
     "output_type": "stream",
     "text": [
      "\u001b[1m16/16\u001b[0m \u001b[32m━━━━━━━━━━━━━━━━━━━━\u001b[0m\u001b[37m\u001b[0m \u001b[1m0s\u001b[0m 1ms/step - accuracy: 0.5874 - loss: 0.6816 \n",
      "Model accuracy with Adagrad Optimizer: 59.00%\n"
     ]
    }
   ],
   "source": [
    "from keras.models import Sequential\n",
    "from keras.layers import Dense\n",
    "from keras.optimizers import Adagrad\n",
    "import numpy as np\n",
    "\n",
    "X = np.random.rand(500, 10)\n",
    "y = np.random.randint(2, size=500)\n",
    "\n",
    "optimizer = Adagrad(learning_rate=0.01)\n",
    "\n",
    "model = Sequential()\n",
    "model.add(Dense(128, input_dim=10, activation='relu'))\n",
    "model.add(Dense(64, activation='relu'))\n",
    "model.add(Dense(1, activation='sigmoid'))\n",
    "\n",
    "model.compile(optimizer=optimizer, loss='binary_crossentropy', metrics=['accuracy'])\n",
    "\n",
    "model.fit(X, y, epochs=30, validation_split=0.2, verbose=0)\n",
    "\n",
    "loss, accuracy = model.evaluate(X, y)\n",
    "print(f'Model accuracy with Adagrad Optimizer: {accuracy * 100:.2f}%')\n"
   ]
  },
  {
   "cell_type": "code",
   "execution_count": 15,
   "metadata": {},
   "outputs": [
    {
     "name": "stdout",
     "output_type": "stream",
     "text": [
      "\u001b[1m16/16\u001b[0m \u001b[32m━━━━━━━━━━━━━━━━━━━━\u001b[0m\u001b[37m\u001b[0m \u001b[1m0s\u001b[0m 2ms/step - accuracy: 0.6411 - loss: 0.6606 \n",
      "Model accuracy with Learning Rate Reduction (Monitoring Accuracy): 62.00%\n"
     ]
    }
   ],
   "source": [
    "from keras.models import Sequential\n",
    "from keras.layers import Dense\n",
    "from keras.callbacks import ReduceLROnPlateau\n",
    "import numpy as np\n",
    "\n",
    "X = np.random.rand(500, 10)\n",
    "y = np.random.randint(2, size=500)\n",
    "\n",
    "model = Sequential()\n",
    "model.add(Dense(128, input_dim=10, activation='relu'))\n",
    "model.add(Dense(64, activation='relu'))\n",
    "model.add(Dense(1, activation='sigmoid'))\n",
    "\n",
    "model.compile(optimizer='adam', loss='binary_crossentropy', metrics=['accuracy'])\n",
    "\n",
    "lr_reduction = ReduceLROnPlateau(monitor='accuracy', factor=0.5, patience=3, min_lr=0.00001)\n",
    "\n",
    "model.fit(X, y, epochs=30, validation_split=0.2, callbacks=[lr_reduction], verbose=0)\n",
    "\n",
    "loss, accuracy = model.evaluate(X, y)\n",
    "print(f'Model accuracy with Learning Rate Reduction (Monitoring Accuracy): {accuracy * 100:.2f}%')\n"
   ]
  },
  {
   "cell_type": "code",
   "execution_count": 16,
   "metadata": {},
   "outputs": [
    {
     "name": "stdout",
     "output_type": "stream",
     "text": [
      "\u001b[1m16/16\u001b[0m \u001b[32m━━━━━━━━━━━━━━━━━━━━\u001b[0m\u001b[37m\u001b[0m \u001b[1m0s\u001b[0m 1ms/step - accuracy: 0.5923 - loss: 0.6820 \n",
      "Model accuracy with SGD and Learning Rate Decay: 57.80%\n"
     ]
    }
   ],
   "source": [
    "from keras.models import Sequential\n",
    "from keras.layers import Dense\n",
    "from keras.optimizers import SGD\n",
    "import numpy as np\n",
    "\n",
    "X = np.random.rand(500, 10)\n",
    "y = np.random.randint(2, size=500)\n",
    "\n",
    "optimizer = SGD(learning_rate=0.01, decay=1e-6, momentum=0.9, nesterov=True)\n",
    "\n",
    "model = Sequential()\n",
    "model.add(Dense(128, input_dim=10, activation='relu'))\n",
    "model.add(Dense(64, activation='relu'))\n",
    "model.add(Dense(1, activation='sigmoid'))\n",
    "\n",
    "model.compile(optimizer=optimizer, loss='binary_crossentropy', metrics=['accuracy'])\n",
    "\n",
    "model.fit(X, y, epochs=30, validation_split=0.2, verbose=0)\n",
    "\n",
    "loss, accuracy = model.evaluate(X, y)\n",
    "print(f'Model accuracy with SGD and Learning Rate Decay: {accuracy * 100:.2f}%')\n"
   ]
  },
  {
   "cell_type": "code",
   "execution_count": 17,
   "metadata": {},
   "outputs": [
    {
     "name": "stdout",
     "output_type": "stream",
     "text": [
      "\u001b[1m16/16\u001b[0m \u001b[32m━━━━━━━━━━━━━━━━━━━━\u001b[0m\u001b[37m\u001b[0m \u001b[1m0s\u001b[0m 1ms/step - accuracy: 0.6303 - loss: 0.6691 \n",
      "Model accuracy with EarlyStopping (Baseline): 59.00%\n"
     ]
    }
   ],
   "source": [
    "from keras.models import Sequential\n",
    "from keras.layers import Dense\n",
    "from keras.callbacks import EarlyStopping\n",
    "import numpy as np\n",
    "\n",
    "X = np.random.rand(500, 10)\n",
    "y = np.random.randint(2, size=500)\n",
    "\n",
    "model = Sequential()\n",
    "model.add(Dense(128, input_dim=10, activation='relu'))\n",
    "model.add(Dense(64, activation='relu'))\n",
    "model.add(Dense(1, activation='sigmoid'))\n",
    "\n",
    "model.compile(optimizer='adam', loss='binary_crossentropy', metrics=['accuracy'])\n",
    "\n",
    "early_stopping = EarlyStopping(monitor='val_loss', patience=5, baseline=0.3)\n",
    "\n",
    "model.fit(X, y, epochs=50, validation_split=0.2, callbacks=[early_stopping], verbose=0)\n",
    "\n",
    "loss, accuracy = model.evaluate(X, y)\n",
    "print(f'Model accuracy with EarlyStopping (Baseline): {accuracy * 100:.2f}%')\n"
   ]
  },
  {
   "cell_type": "code",
   "execution_count": 18,
   "metadata": {},
   "outputs": [
    {
     "name": "stdout",
     "output_type": "stream",
     "text": [
      "\u001b[1m16/16\u001b[0m \u001b[32m━━━━━━━━━━━━━━━━━━━━\u001b[0m\u001b[37m\u001b[0m \u001b[1m0s\u001b[0m 2ms/step - accuracy: 0.7046 - loss: 0.5998 \n",
      "Model accuracy with Learning Rate Scheduler: 68.20%\n"
     ]
    }
   ],
   "source": [
    "from keras.models import Sequential\n",
    "from keras.layers import Dense\n",
    "from keras.callbacks import LearningRateScheduler\n",
    "import numpy as np\n",
    "\n",
    "X = np.random.rand(500, 10)\n",
    "y = np.random.randint(2, size=500)\n",
    "\n",
    "def lr_schedule(epoch):\n",
    "    return 0.01 * (0.1 ** (epoch // 10))\n",
    "\n",
    "lr_scheduler = LearningRateScheduler(lr_schedule)\n",
    "\n",
    "model = Sequential()\n",
    "model.add(Dense(128, input_dim=10, activation='relu'))\n",
    "model.add(Dense(64, activation='relu'))\n",
    "model.add(Dense(1, activation='sigmoid'))\n",
    "\n",
    "model.compile(optimizer='adam', loss='binary_crossentropy', metrics=['accuracy'])\n",
    "\n",
    "model.fit(X, y, epochs=30, validation_split=0.2, callbacks=[lr_scheduler], verbose=0)\n",
    "\n",
    "loss, accuracy = model.evaluate(X, y)\n",
    "print(f'Model accuracy with Learning Rate Scheduler: {accuracy * 100:.2f}%')\n"
   ]
  },
  {
   "cell_type": "code",
   "execution_count": null,
   "metadata": {},
   "outputs": [],
   "source": []
  }
 ],
 "metadata": {
  "kernelspec": {
   "display_name": "Python 3",
   "language": "python",
   "name": "python3"
  },
  "language_info": {
   "codemirror_mode": {
    "name": "ipython",
    "version": 3
   },
   "file_extension": ".py",
   "mimetype": "text/x-python",
   "name": "python",
   "nbconvert_exporter": "python",
   "pygments_lexer": "ipython3",
   "version": "3.12.4"
  }
 },
 "nbformat": 4,
 "nbformat_minor": 2
}

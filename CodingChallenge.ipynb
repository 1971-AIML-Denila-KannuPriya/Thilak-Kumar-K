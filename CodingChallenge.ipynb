{
 "cells": [
  {
   "cell_type": "markdown",
   "metadata": {},
   "source": [
    "1. Find the second largest element in a list (without using max() function)"
   ]
  },
  {
   "cell_type": "code",
   "execution_count": 3,
   "metadata": {},
   "outputs": [
    {
     "name": "stdout",
     "output_type": "stream",
     "text": [
      "[1, 2, 3, 4, 5]\n"
     ]
    }
   ],
   "source": [
    "n=int(input(\"Enter No of elements: \"))\n",
    "li=[]\n",
    "for i in range (n):\n",
    "    ele=int(input(\"Enter element: \"))\n",
    "    li.append(ele)\n",
    "print(li)"
   ]
  },
  {
   "cell_type": "code",
   "execution_count": 8,
   "metadata": {},
   "outputs": [
    {
     "name": "stdout",
     "output_type": "stream",
     "text": [
      "44\n"
     ]
    }
   ],
   "source": [
    "li=[12,65,44,36,43]\n",
    "largest = secLargest = float('-inf') #  largest=li[0] and seLargest=None\n",
    "for num in li:\n",
    "    if num > largest:\n",
    "        secLargest=largest\n",
    "        largest=num\n",
    "    elif num > secLargest:\n",
    "        secLargest=num\n",
    "print(secLargest)\n",
    "        "
   ]
  },
  {
   "cell_type": "markdown",
   "metadata": {},
   "source": [
    "2. Check if a number is prime."
   ]
  },
  {
   "cell_type": "code",
   "execution_count": 10,
   "metadata": {},
   "outputs": [
    {
     "name": "stdout",
     "output_type": "stream",
     "text": [
      "79 is a prime number\n"
     ]
    }
   ],
   "source": [
    "def is_prime(num):\n",
    "    if num <= 1: \n",
    "        return False\n",
    "    if num == 2: \n",
    "        return True\n",
    "    if num % 2 == 0:  \n",
    "        return False\n",
    "    for i in range(3, num // 2 + 1, 2): #num // 2 dividing by half becoz num cannot have divisors larger than half of itself \n",
    "        if num % i == 0:\n",
    "            return False\n",
    "    return True\n",
    "\n",
    "number = int(input(\"Enter a number: \"))\n",
    "if is_prime(number):\n",
    "    print(f\"{number} is a prime number\")\n",
    "else:\n",
    "    print(f\"{number} is not a prime number\")"
   ]
  },
  {
   "cell_type": "markdown",
   "metadata": {},
   "source": [
    "3.Write a Python program to reverse a string without using inbuilt functions\n"
   ]
  },
  {
   "cell_type": "code",
   "execution_count": 13,
   "metadata": {},
   "outputs": [
    {
     "name": "stdout",
     "output_type": "stream",
     "text": [
      "Entered string: kesava\n",
      "Reversed string: avasek\n"
     ]
    }
   ],
   "source": [
    "def revstring(s):\n",
    "    revstr = \"\" \n",
    "    for char in s:\n",
    "        revstr = char + revstr \n",
    "    return revstr\n",
    "\n",
    "inputstr = input(\"Enter a string: \")\n",
    "print(\"Entered string:\",inputstr)\n",
    "print(\"Reversed string:\", revstring(inputstr))"
   ]
  },
  {
   "cell_type": "markdown",
   "metadata": {},
   "source": [
    "4.Merge two sorted arrays into a single sorted array without using any built-in sort methods"
   ]
  },
  {
   "cell_type": "code",
   "execution_count": 14,
   "metadata": {},
   "outputs": [
    {
     "name": "stdout",
     "output_type": "stream",
     "text": [
      "Merged sorted array: [1, 2, 3, 4, 5, 6, 7, 8]\n"
     ]
    }
   ],
   "source": [
    "def merge_sorted_arrays(arr1, arr2):\n",
    "    merged_array = []  \n",
    "    i, j = 0, 0 \n",
    "\n",
    "    while i < len(arr1) and j < len(arr2):\n",
    "        if arr1[i] < arr2[j]:  \n",
    "            merged_array.append(arr1[i])  \n",
    "            i += 1  \n",
    "        else:\n",
    "            merged_array.append(arr2[j])  \n",
    "            j += 1 \n",
    "    while i < len(arr1):\n",
    "        merged_array.append(arr1[i])\n",
    "        i += 1\n",
    "    while j < len(arr2):\n",
    "        merged_array.append(arr2[j])\n",
    "        j += 1\n",
    "\n",
    "    return merged_array \n",
    "arr1 = [1, 3, 5, 7]  \n",
    "arr2 = [2, 4, 6, 8]  \n",
    "result = merge_sorted_arrays(arr1, arr2)\n",
    "print(\"Merged sorted array:\", result)"
   ]
  },
  {
   "cell_type": "markdown",
   "metadata": {},
   "source": [
    "5 Write a program to calculate the factorial of a number using recursion"
   ]
  },
  {
   "cell_type": "code",
   "execution_count": 16,
   "metadata": {},
   "outputs": [
    {
     "name": "stdout",
     "output_type": "stream",
     "text": [
      "Factprial of 4 is:  24\n"
     ]
    }
   ],
   "source": [
    "def factorial(n):\n",
    "    if n == 0 or n == 1:\n",
    "        return 1\n",
    "    else:\n",
    "        return n * factorial(n - 1)\n",
    "n=int(input(\"Enter Number: \"))\n",
    "print(f\"Factprial of {n} is:\",factorial(n))"
   ]
  },
  {
   "cell_type": "markdown",
   "metadata": {},
   "source": [
    "6 Find the largest contiguous subarray sum (Kadane’s Algorithm)"
   ]
  },
  {
   "cell_type": "code",
   "execution_count": 17,
   "metadata": {},
   "outputs": [
    {
     "name": "stdout",
     "output_type": "stream",
     "text": [
      "The largest contiguous subarray sum is: 8\n"
     ]
    }
   ],
   "source": [
    "def max_subarray_sum(arr):\n",
    "    max_so_far = arr[0]\n",
    "    max_ending_here = arr[0]\n",
    "\n",
    "    for i in range(1, len(arr)):\n",
    "        max_ending_here = max(arr[i], max_ending_here + arr[i])\n",
    "        max_so_far = max(max_so_far, max_ending_here)\n",
    "    return max_so_far\n",
    "\n",
    "arr1 = [1, -4, -2, 5, 3, -7]\n",
    "result = max_subarray_sum(arr1)\n",
    "print(f\"The largest contiguous subarray sum is: {result}\")"
   ]
  },
  {
   "cell_type": "markdown",
   "metadata": {},
   "source": [
    "7 Check if a given string is a palindrome"
   ]
  },
  {
   "cell_type": "code",
   "execution_count": 18,
   "metadata": {},
   "outputs": [
    {
     "name": "stdout",
     "output_type": "stream",
     "text": [
      "True\n"
     ]
    }
   ],
   "source": [
    "def is_palindrome(s):\n",
    "    s = s.replace(\" \", \"\").lower()\n",
    "    return s == s[::-1]\n",
    "string1 = \"Malayalam\"\n",
    "result = is_palindrome(string1)\n",
    "print(result)"
   ]
  },
  {
   "cell_type": "markdown",
   "metadata": {},
   "source": [
    "8 Convert a decimal number to binary without using built-in functions"
   ]
  },
  {
   "cell_type": "code",
   "execution_count": 19,
   "metadata": {},
   "outputs": [
    {
     "name": "stdout",
     "output_type": "stream",
     "text": [
      "The binary representation of 18 is: 10010\n"
     ]
    }
   ],
   "source": [
    "def decimal_to_binary(n):\n",
    "    if n == 0:\n",
    "        return \"0\"\n",
    "    binary = \"\"\n",
    "    while n > 0:\n",
    "        remainder = n % 2\n",
    "        binary = str(remainder) + binary\n",
    "        n = n // 2\n",
    "    return binary\n",
    "dec_num = 18\n",
    "binary_form = decimal_to_binary(dec_num)\n",
    "print(f\"The binary representation of {dec_num} is: {binary_form}\")"
   ]
  },
  {
   "cell_type": "markdown",
   "metadata": {},
   "source": [
    "9 Find pairs in an array with a given sum"
   ]
  },
  {
   "cell_type": "code",
   "execution_count": 20,
   "metadata": {},
   "outputs": [
    {
     "name": "stdout",
     "output_type": "stream",
     "text": [
      "Pairs that sum to 7: [(3, 4), (2, 5), (1, 6)]\n"
     ]
    }
   ],
   "source": [
    "def find_pairs_with_sum(arr, target_sum):\n",
    "    pairs = []\n",
    "    seen = set()\n",
    "    for number in arr:\n",
    "        complement = target_sum - number\n",
    "        if complement in seen:\n",
    "            pairs.append((complement, number))\n",
    "        seen.add(number)\n",
    "    return pairs\n",
    "arr1 = [1, 2, 3, 4, 5, 6]\n",
    "target = 7\n",
    "result = find_pairs_with_sum(arr1, target)\n",
    "print(f\"Pairs that sum to {target}: {result}\")"
   ]
  },
  {
   "cell_type": "markdown",
   "metadata": {},
   "source": [
    "10 Count the frequency of elements in a list"
   ]
  },
  {
   "cell_type": "code",
   "execution_count": 21,
   "metadata": {},
   "outputs": [
    {
     "name": "stdout",
     "output_type": "stream",
     "text": [
      "Frequency of elements: {1: 1, 3: 4, 4: 1, 5: 4, 6: 1, 2: 1}\n"
     ]
    }
   ],
   "source": [
    "def count_frequency(lst):\n",
    "    frequency = {}\n",
    "\n",
    "    for item in lst:\n",
    "        if item in frequency:\n",
    "            frequency[item] += 1\n",
    "        else:\n",
    "            frequency[item] = 1\n",
    "    return frequency\n",
    "my_list = [1,3,4,5,6,3,5,3,5,3,5,2]\n",
    "result = count_frequency(my_list)\n",
    "print(\"Frequency of elements:\", result)"
   ]
  },
  {
   "cell_type": "markdown",
   "metadata": {},
   "source": [
    "11 Fibonacci sequence: Write a program to generate the first N numbers in the Fibonacci sequence using recursion."
   ]
  },
  {
   "cell_type": "code",
   "execution_count": 22,
   "metadata": {},
   "outputs": [
    {
     "name": "stdout",
     "output_type": "stream",
     "text": [
      "The first 5 numbers in the Fibonacci sequence are: [0, 1, 1, 2, 3]\n"
     ]
    }
   ],
   "source": [
    "def fibonacci(n):\n",
    "    if n <= 0:\n",
    "        return []\n",
    "    elif n == 1:\n",
    "        return [0]\n",
    "    elif n == 2:\n",
    "        return [0, 1]\n",
    "    else:\n",
    "        fib_sequence = fibonacci(n - 1)\n",
    "        next_fib = fib_sequence[-1] + fib_sequence[-2]\n",
    "        fib_sequence.append(next_fib)\n",
    "        return fib_sequence\n",
    "N = 5\n",
    "result = fibonacci(N)\n",
    "print(f\"The first {N} numbers in the Fibonacci sequence are: {result}\")"
   ]
  },
  {
   "cell_type": "markdown",
   "metadata": {},
   "source": [
    "12 Remove duplicates from a list: Write a program to remove duplicate elements from a list while preserving the order of elements"
   ]
  },
  {
   "cell_type": "code",
   "execution_count": 23,
   "metadata": {},
   "outputs": [
    {
     "name": "stdout",
     "output_type": "stream",
     "text": [
      "List after removing duplicates: [1, 2, 3, 4, 5]\n"
     ]
    }
   ],
   "source": [
    "def remove_duplicates(lst):\n",
    "    seen = set()\n",
    "    result = []\n",
    "    for item in lst:\n",
    "        if item not in seen:\n",
    "            seen.add(item)\n",
    "            result.append(item)\n",
    "    return result\n",
    "list = [1, 2, 3, 2, 4, 1, 5, 4]\n",
    "result = remove_duplicates(list)\n",
    "print(\"List after removing duplicates:\", result)"
   ]
  },
  {
   "cell_type": "markdown",
   "metadata": {},
   "source": [
    "13 Anagram check: Write a Python function that checks if two strings are anagrams of each other (i.e., if they contain the same characters in any order)"
   ]
  },
  {
   "cell_type": "code",
   "execution_count": 24,
   "metadata": {},
   "outputs": [
    {
     "name": "stdout",
     "output_type": "stream",
     "text": [
      "True\n"
     ]
    }
   ],
   "source": [
    "def are_anagrams(str1, str2):\n",
    "    str1 = str1.replace(\" \", \"\").lower()\n",
    "    str2 = str2.replace(\" \", \"\").lower()\n",
    "    return sorted(str1) == sorted(str2)\n",
    "string1 = \"listen\"\n",
    "string2 = \"silent\"\n",
    "result = are_anagrams(string1, string2)\n",
    "print(result)"
   ]
  },
  {
   "cell_type": "markdown",
   "metadata": {},
   "source": [
    "14 Count vowels and consonants: Write a program that takes a string as input and counts the number of vowels and consonants in it"
   ]
  },
  {
   "cell_type": "code",
   "execution_count": 25,
   "metadata": {},
   "outputs": [
    {
     "name": "stdout",
     "output_type": "stream",
     "text": [
      "Vowels: 3, Consonants: 3\n"
     ]
    }
   ],
   "source": [
    "def count_vowels_and_consonants(str):\n",
    "    vowels = \"aeiouAEIOU\"\n",
    "    vowel_count = 0\n",
    "    consonant_count = 0\n",
    "    for char in str:\n",
    "        if char.isalpha():\n",
    "            if char in vowels:\n",
    "                vowel_count += 1\n",
    "            else:\n",
    "                consonant_count += 1\n",
    "    return vowel_count, consonant_count\n",
    "str = \"How are you friends?\"\n",
    "vowels, consonants = count_vowels_and_consonants(input_string)\n",
    "print(f\"Vowels: {vowels}, Consonants: {consonants}\")"
   ]
  },
  {
   "cell_type": "markdown",
   "metadata": {},
   "source": [
    "15  Binary search algorithm: Implement the binary search algorithm for a sorted list and return the index of a target value"
   ]
  },
  {
   "cell_type": "code",
   "execution_count": 26,
   "metadata": {},
   "outputs": [
    {
     "name": "stdout",
     "output_type": "stream",
     "text": [
      "Target 9 found at index: 4\n"
     ]
    }
   ],
   "source": [
    "def binary_search(sorted_list, target):\n",
    "    left, right = 0, len(sorted_list) - 1\n",
    "\n",
    "    while left <= right:\n",
    "        mid = (left + right) // 2\n",
    "\n",
    "        if sorted_list[mid] == target:\n",
    "            return mid\n",
    "        elif sorted_list[mid] < target:\n",
    "            left = mid + 1\n",
    "        else:\n",
    "            right = mid - 1\n",
    "    return -1\n",
    "    \n",
    "sorted_list = [1, 3, 5, 7, 9, 11, 13, 15, 17]\n",
    "target_value = 9\n",
    "result = binary_search(sorted_list, target_value)\n",
    "if result != -1:\n",
    "    print(f\"Target {target_value} found at index: {result}\")\n",
    "else:\n",
    "    print(f\"Target {target_value} not found in the list.\")"
   ]
  },
  {
   "cell_type": "markdown",
   "metadata": {},
   "source": [
    "16 Check if a list is sorted: Write a function to check if a given list is sorted in ascending order."
   ]
  },
  {
   "cell_type": "code",
   "execution_count": 27,
   "metadata": {},
   "outputs": [
    {
     "name": "stdout",
     "output_type": "stream",
     "text": [
      "The list is not sorted.\n"
     ]
    }
   ],
   "source": [
    "def is_sorted(lst):\n",
    "    for i in range(len(lst) - 1):\n",
    "        if lst[i] > lst[i + 1]:\n",
    "            return False\n",
    "    return True\n",
    "\n",
    "list1 = [1, 7, 3, 4, 5]\n",
    "result = is_sorted(list1)\n",
    "\n",
    "if result:\n",
    "    print(\"The list is sorted in ascending order.\")\n",
    "else:\n",
    "    print(\"The list is not sorted.\")"
   ]
  },
  {
   "cell_type": "markdown",
   "metadata": {},
   "source": [
    "Sum of digits of a number: Write a recursive function to find the sum of digits of a given number"
   ]
  },
  {
   "cell_type": "code",
   "execution_count": 28,
   "metadata": {},
   "outputs": [
    {
     "name": "stdout",
     "output_type": "stream",
     "text": [
      "The sum of the digits of 143 is: 8\n"
     ]
    }
   ],
   "source": [
    "def sum_of_digits(n):\n",
    "    if n == 0:\n",
    "        return 0\n",
    "    else:\n",
    "        return n % 10 + sum_of_digits(n // 10)\n",
    "number = 143\n",
    "result = sum_of_digits(number)\n",
    "print(f\"The sum of the digits of {number} is: {result}\")"
   ]
  },
  {
   "cell_type": "markdown",
   "metadata": {},
   "source": [
    " Intersection of two lists: Write a program that finds the intersection of two lists (i.e.,common elements between them)."
   ]
  },
  {
   "cell_type": "code",
   "execution_count": 30,
   "metadata": {},
   "outputs": [
    {
     "name": "stdout",
     "output_type": "stream",
     "text": [
      "The intersection of the two lists is: [4, 6]\n"
     ]
    }
   ],
   "source": [
    "def intersection(list1, list2):\n",
    "    common_elements = []\n",
    "    for item in list1:\n",
    "        if item in list2:\n",
    "            common_elements.append(item)\n",
    "\n",
    "    return common_elements\n",
    "    \n",
    "list1 = [1, 2, 3, 4, 6]\n",
    "list2 = [4, 5, 6, 7, 8]\n",
    "result = intersection(list1, list2)\n",
    "print(f\"The intersection of the two lists is: {result}\")"
   ]
  },
  {
   "cell_type": "markdown",
   "metadata": {},
   "source": [
    "Find all permutations of a string: Write a program to find all permutations of a given string."
   ]
  },
  {
   "cell_type": "code",
   "execution_count": 32,
   "metadata": {},
   "outputs": [
    {
     "name": "stdout",
     "output_type": "stream",
     "text": [
      "All permutations of the string 'Aadi' are:\n",
      "Aadi\n",
      "Aaid\n",
      "Adai\n",
      "Adia\n",
      "Aiad\n",
      "Aida\n",
      "aAdi\n",
      "aAid\n",
      "adAi\n",
      "adiA\n",
      "aiAd\n",
      "aidA\n",
      "dAai\n",
      "dAia\n",
      "daAi\n",
      "daiA\n",
      "diAa\n",
      "diaA\n",
      "iAad\n",
      "iAda\n",
      "iaAd\n",
      "iadA\n",
      "idAa\n",
      "idaA\n"
     ]
    }
   ],
   "source": [
    "def permute(s, current_permutation=\"\"):\n",
    "    if len(s) == 0:\n",
    "        print(current_permutation)\n",
    "    else:\n",
    "        for i in range(len(s)):\n",
    "            new_s = s[:i] + s[i+1:]\n",
    "            permute(new_s, current_permutation + s[i])\n",
    "inputstr = \"Aadi\"\n",
    "print(f\"All permutations of the string '{inputstr}' are:\")\n",
    "permute(inputstr)"
   ]
  }
 ],
 "metadata": {
  "kernelspec": {
   "display_name": "Python 3",
   "language": "python",
   "name": "python3"
  },
  "language_info": {
   "codemirror_mode": {
    "name": "ipython",
    "version": 3
   },
   "file_extension": ".py",
   "mimetype": "text/x-python",
   "name": "python",
   "nbconvert_exporter": "python",
   "pygments_lexer": "ipython3",
   "version": "3.12.4"
  }
 },
 "nbformat": 4,
 "nbformat_minor": 2
}
